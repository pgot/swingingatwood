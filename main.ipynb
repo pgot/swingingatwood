{
 "cells": [
  {
   "cell_type": "code",
   "execution_count": null,
   "metadata": {},
   "outputs": [],
   "source": [
    "import numpy as np\n",
    "import matplotlib.pyplot as plt\n",
    "import matplotlib.animation as animation\n",
    "import os\n",
    "from functools import partial"
   ]
  },
  {
   "cell_type": "code",
   "execution_count": null,
   "metadata": {},
   "outputs": [],
   "source": [
    "def cart2pol(x, y):\n",
    "    r = np.sqrt(x**2 + y**2)\n",
    "    theta = np.arctan2(y, x)\n",
    "    return(theta, r)\n",
    "\n",
    "def pol2cart(r, phi):\n",
    "    x = r * np.cos(phi)\n",
    "    y = r * np.sin(phi)\n",
    "    return(x, y)"
   ]
  },
  {
   "cell_type": "code",
   "execution_count": null,
   "metadata": {},
   "outputs": [],
   "source": [
    "g = 9.81\n",
    "# offsets for relevant quantities in the state array\n",
    "R = 0\n",
    "RDOT = 1\n",
    "THETA = 2\n",
    "THETADOT = 3\n",
    "\n",
    "def ddt(mu, state, t):\n",
    "    #some of these have been complicated with newton's 2nd law in polar coord form\n",
    "    rdotdot = (g*(-mu + np.cos(state[THETA])) + state[R]*state[THETADOT]**2) / (1+mu)\n",
    "    thetadotdot = (-g*np.sin(state[THETA])-2*state[RDOT]*state[THETADOT])/state[R]\n",
    "    return np.array([state[RDOT],rdotdot,state[THETADOT],thetadotdot]) #r, rdot, theta, thetadot\n",
    "\n",
    "def rk4(mu, state, t, dt):\n",
    "    f0 = ddt(mu, state, t)\n",
    "    f1 = ddt(mu, state+f0*(dt/2), t + dt/2)\n",
    "    f2 = ddt(mu, state+f1*(dt/2), t + dt/2)\n",
    "    f3 = ddt(mu, state+f2*(dt), t + dt)\n",
    "    s_next = state + (f0 + 2 * f1 + 2 * f2 + f3) * dt / 6\n",
    "    return s_next"
   ]
  },
  {
   "cell_type": "code",
   "execution_count": null,
   "metadata": {},
   "outputs": [],
   "source": [
    "def SAM(mu, init_state, t, show):\n",
    "    states=[init_state] #this captures all necessary params: r, rdot, theta, thetadot\n",
    "    times = [0]\n",
    "    dt = 0.005\n",
    "    threshold = 0.005\n",
    "\n",
    "    for i in range(int(t/dt)):\n",
    "        if(states[-1][0] < threshold * init_state[0]):\n",
    "            print(\"Possible singularity. Stopping simulation. (r=%.3f)\"%states[-1][0])\n",
    "            break\n",
    "        if(states[-1][0] > init_state[0]/threshold):\n",
    "            print(\"Possible unbounded solution. Stopping simulation. (r=%.3f)\"%states[-1][0])\n",
    "            break\n",
    "        states.append(rk4(mu, states[-1], times[-1], dt))\n",
    "        times.append(times[-1] + dt)\n",
    "        \n",
    "    \n",
    "    # transform and transpose\n",
    "    states = np.array(states)\n",
    "    states = states.transpose()\n",
    "\n",
    "    if show:\n",
    "        fig, ax = plt.subplots(subplot_kw={'projection': 'polar'})\n",
    "        ax.set_theta_zero_location(\"S\")\n",
    "        ax.plot(states[THETA], states[R], color='r', linewidth=1)\n",
    "        plt.title(\"$\\mu = %.3f$, $r_0 = %.3f$, $\\\\dot{r_0} = %.3f$, $\\\\theta_0 = %.3f$, $\\\\dot{\\\\theta_0} = %.3f$\" % (mu, init_state[0], init_state[1], init_state[2], init_state[3]))\n",
    "        ax.grid(True)\n",
    "    return states"
   ]
  },
  {
   "cell_type": "code",
   "execution_count": null,
   "metadata": {},
   "outputs": [],
   "source": [
    "SAM(1.667, np.array([2,0,np.pi/2,0]), 10, True) #known periodic orbit"
   ]
  },
  {
   "cell_type": "code",
   "execution_count": null,
   "metadata": {},
   "outputs": [],
   "source": [
    "SAM(10, np.array([2,0,np.pi/2,0]), 10, True) #known singular orbit"
   ]
  },
  {
   "cell_type": "code",
   "execution_count": null,
   "metadata": {},
   "outputs": [],
   "source": [
    "SAM(5, np.array([2,-3,0.1,0.7]), 10, True) #some initial velocity"
   ]
  },
  {
   "cell_type": "code",
   "execution_count": null,
   "metadata": {},
   "outputs": [],
   "source": [
    "DOT_SIZE = 90\n",
    "STRING_LENGTH = 1.75\n",
    "DISTANCE_BETWEEN_PULLEYS = 0.5\n",
    "\n",
    "def update(frame, dots, history, string, res, interval):\n",
    "    \n",
    "    # prevent t from going beyond the end\n",
    "    t = frame*int(interval/5)\n",
    "    t_end = len(res[0])-1\n",
    "    t = min(t, t_end)\n",
    "\n",
    "    # mutate path history    \n",
    "    history.set_xdata(res[THETA][:t])\n",
    "    history.set_ydata(res[R][:t])\n",
    "    \n",
    "    theta = res[THETA][t]\n",
    "    r = res[R][t]\n",
    "    \n",
    "    # mutate swinging mass location\n",
    "    swinging_dot = dots[0]\n",
    "    swinging_dot.set_offsets([theta, r])\n",
    "    \n",
    "    # mutate vertical mass location\n",
    "    vertical_dot = dots[1]\n",
    "    remaining_string_length = STRING_LENGTH - DISTANCE_BETWEEN_PULLEYS - r\n",
    "    \n",
    "    alpha = np.arctan2(remaining_string_length, DISTANCE_BETWEEN_PULLEYS)\n",
    "    angle = -np.pi/2 + alpha\n",
    "    distance = np.sqrt(remaining_string_length**2 + DISTANCE_BETWEEN_PULLEYS**2)\n",
    "    vertical_dot.set_offsets([angle, distance])\n",
    "    \n",
    "    # mutate string\n",
    "    positions = np.array([[angle, distance],\n",
    "        [-np.pi/2, DISTANCE_BETWEEN_PULLEYS],\n",
    "        [0, 0],\n",
    "        [theta, r]])\n",
    "    # string.set_data(np.transpose(positions))\n",
    "    \n",
    "    return [history, swinging_dot, vertical_dot, string]\n",
    "\n",
    "def anim(mu, state, t, interval):\n",
    "    res = SAM(mu, state, t, False)\n",
    "    fig, ax = plt.subplots(subplot_kw={'projection': 'polar'})\n",
    "    ax.set_theta_zero_location(\"S\")\n",
    "    history = ax.plot(res[THETA], res[R], color='r', linewidth=1)[0]\n",
    "    ax.grid(True)\n",
    "    \n",
    "    initial_theta = res[THETA][0]\n",
    "    initial_r = res[R][0]\n",
    "    \n",
    "    swinging_dot = ax.scatter(initial_theta, initial_r, s=DOT_SIZE, c='black')\n",
    "    vertical_dot = ax.scatter(initial_theta, initial_r, s=DOT_SIZE, c='blue')\n",
    "\n",
    "    string = ax.plot(initial_theta, initial_r, color='gray', linewidth=1)[0] #idk why it returns it in a list\n",
    "\n",
    "    ani = animation.FuncAnimation(fig=fig, func=partial(\n",
    "        update, \n",
    "        history=history, \n",
    "        dots=[swinging_dot, vertical_dot],\n",
    "        string=string,\n",
    "        res=res, \n",
    "        interval=interval), frames=int(len(res[0])*5/interval), interval=interval)\n",
    "\n",
    "    i = 1\n",
    "    filename = \"example_mu\" + str(mu) + \".gif\"\n",
    "    if os.path.exists(filename):\n",
    "        while os.path.exists(\"example_mu%.3f_%s.gif\" % (mu, i)):\n",
    "            i += 1\n",
    "        filename = \"example_mu%.3f_%s.gif\" % (mu, i)\n",
    "    ani.save(filename=filename, writer=\"pillow\", fps=int(1000/interval))"
   ]
  },
  {
   "cell_type": "code",
   "execution_count": null,
   "metadata": {},
   "outputs": [],
   "source": [
    "anim(mu=10.3, state=np.array([1, 0, np.pi/2, 0]), t=2, interval=30)"
   ]
  },
  {
   "cell_type": "code",
   "execution_count": null,
   "metadata": {},
   "outputs": [],
   "source": []
  }
 ],
 "metadata": {
  "kernelspec": {
   "display_name": "Python 3",
   "language": "python",
   "name": "python3"
  },
  "language_info": {
   "codemirror_mode": {
    "name": "ipython",
    "version": 3
   },
   "file_extension": ".py",
   "mimetype": "text/x-python",
   "name": "python",
   "nbconvert_exporter": "python",
   "pygments_lexer": "ipython3",
   "version": "3.12.0"
  }
 },
 "nbformat": 4,
 "nbformat_minor": 2
}
