{
 "cells": [
  {
   "cell_type": "code",
   "execution_count": 1,
   "metadata": {},
   "outputs": [],
   "source": [
    "import numpy as np\n",
    "import matplotlib.pyplot as plt"
   ]
  },
  {
   "cell_type": "code",
   "execution_count": null,
   "metadata": {},
   "outputs": [],
   "source": [
    "def dxdt():\n",
    "    return 0 # TODO\n",
    "\n",
    "def rk4_x(x, v, t, dt):\n",
    "    f0 = dxdt(x, v, t)\n",
    "    f1 = dxdt(x + f0 * dt / 2, v, t + dt / 2)\n",
    "    f2 = dxdt(x + f1 * dt / 2, v, t + dt / 2)\n",
    "    f3 = dxdt(x + f2 * dt, v, t + dt)\n",
    "    x_next = x + (f0 + 2 * f1 + 2 * f2 + f3) * dt / 6\n",
    "    return x_next"
   ]
  },
  {
   "cell_type": "code",
   "execution_count": null,
   "metadata": {},
   "outputs": [],
   "source": [
    "x_history = []\n",
    "y_history = []\n",
    "times = []\n",
    "dt = 0.01\n",
    "\n",
    "for i in range(1e5):\n",
    "    times.append(times[-1] + dt)"
   ]
  }
 ],
 "metadata": {
  "kernelspec": {
   "display_name": "Python 3",
   "language": "python",
   "name": "python3"
  },
  "language_info": {
   "codemirror_mode": {
    "name": "ipython",
    "version": 3
   },
   "file_extension": ".py",
   "mimetype": "text/x-python",
   "name": "python",
   "nbconvert_exporter": "python",
   "pygments_lexer": "ipython3",
   "version": "3.12.0"
  }
 },
 "nbformat": 4,
 "nbformat_minor": 2
}
